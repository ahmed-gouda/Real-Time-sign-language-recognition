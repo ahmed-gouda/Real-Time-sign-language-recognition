{
 "cells": [
  {
   "cell_type": "code",
   "execution_count": null,
   "metadata": {
    "id": "gtInkw44DdWT"
   },
   "outputs": [],
   "source": [
    "# Importing the Keras libraries and packages\n",
    "#import pretrained models\n",
    "from keras.applications.vgg16 import VGG16\n",
    "#from tensorflow.keras.applications.resnet50 import ResNet50\n",
    "#from keras.applications.vgg19 import VGG19\n",
    "#import packages\n",
    "from keras.models import Model\n",
    "from keras.preprocessing import image\n",
    "from tensorflow.keras.layers import Input, Lambda ,Dense ,Flatten ,Dropout\n",
    "import numpy as np\n",
    "import tensorflow as tf\n",
    "import pandas as pd\n",
    "import keras\n",
    "import matplotlib.pyplot as plt\n",
    "%matplotlib inline\n",
    "import os\n",
    "import cv2\n",
    "from tensorflow.keras.preprocessing.image import load_img,img_to_array\n",
    "from sklearn.model_selection import train_test_split\n",
    "from keras.utils.np_utils import to_categorical"
   ]
  },
  {
   "cell_type": "code",
   "execution_count": null,
   "metadata": {
    "id": "bNzlnNgnG-4a"
   },
   "outputs": [],
   "source": [
    "# loading saved images \n",
    "def load_image_data(directory):\n",
    "    \n",
    "    images = []\n",
    "    labels = []\n",
    "    for label in sorted(os.listdir(directory)):\n",
    "        for image in os.listdir(directory + \"/\" + label ):\n",
    "            img = cv2.resize(cv2.imread(directory + \"/\" + label+ \"/\" +image), (300, 300))\n",
    "            images.append(img)\n",
    "            labels.append(label)\n",
    "    images = np.array(images)\n",
    "    labels = np.array(labels)\n",
    "    return (images,labels)\n",
    "\n",
    "  \n"
   ]
  },
  {
   "cell_type": "code",
   "execution_count": null,
   "metadata": {
    "id": "PeIxc9CUPmpl"
   },
   "outputs": [],
   "source": [
    "#loading dierent data\n",
    "#loading train data\n",
    "x_train,y_train=load_image_data('data/train')\n",
    "x_test,y_test=load_image_data('data/test')\n"
   ]
  },
  {
   "cell_type": "code",
   "execution_count": null,
   "metadata": {},
   "outputs": [],
   "source": [
    "labels=list(np.unique(y_train))"
   ]
  },
  {
   "cell_type": "code",
   "execution_count": null,
   "metadata": {
    "id": "NxFrXq_bVapR"
   },
   "outputs": [],
   "source": [
    "#splitting training data to train and val\n",
    "x_train, x_val, y_train, y_val = train_test_split(x_train,y_train, test_size = 0.2,random_state=27,stratify = y_train)"
   ]
  },
  {
   "cell_type": "code",
   "execution_count": null,
   "metadata": {
    "id": "ngtH3q_gqDtu"
   },
   "outputs": [],
   "source": [
    "from sklearn.preprocessing import LabelEncoder\n",
    "le = LabelEncoder()\n",
    "y_train_cat=le.fit_transform(y_train)\n",
    "y_val_cat = le.fit_transform(y_val)\n",
    "y_test_cat = le.fit_transform(y_test)\n",
    "y_train_cat = to_categorical(y_train_cat)\n",
    "y_test_cat = to_categorical(y_test_cat)\n",
    "y_val_cat = to_categorical(y_val_cat)"
   ]
  },
  {
   "cell_type": "code",
   "execution_count": null,
   "metadata": {
    "id": "S0Y0AZAT0_Yo"
   },
   "outputs": [],
   "source": [
    "x_train = x_train.astype('float32')/255.0\n",
    "x_test = x_test.astype('float32')/255.0\n",
    "x_val = x_val.astype('float32')/255.0"
   ]
  },
  {
   "cell_type": "code",
   "execution_count": null,
   "metadata": {
    "id": "n-LyMUEKXWfb"
   },
   "outputs": [],
   "source": [
    "classifier_vgg16 = VGG16(input_shape= (300,300,3),include_top=False,weights='imagenet')\n"
   ]
  },
  {
   "cell_type": "code",
   "execution_count": null,
   "metadata": {
    "id": "9HHRwtbNb7Hy"
   },
   "outputs": [],
   "source": [
    "#don't train existing weights for vgg16\n",
    "for layer in classifier_vgg16.layers:\n",
    "    layer.trainable = False"
   ]
  },
  {
   "cell_type": "code",
   "execution_count": null,
   "metadata": {
    "colab": {
     "base_uri": "https://localhost:8080/"
    },
    "executionInfo": {
     "elapsed": 251,
     "status": "ok",
     "timestamp": 1679348719945,
     "user": {
      "displayName": "Ahmed Gouda",
      "userId": "17922455451896604247"
     },
     "user_tz": -120
    },
    "id": "20QzgWEIcBOS",
    "outputId": "4520a8f6-cccc-4ba9-8574-388bd5d2e995"
   },
   "outputs": [],
   "source": [
    "classifier_vgg16.summary()"
   ]
  },
  {
   "cell_type": "code",
   "execution_count": null,
   "metadata": {
    "id": "wb8TlD-9crdD"
   },
   "outputs": [],
   "source": [
    "classifier1 = classifier_vgg16.output#head mode\n",
    "classifier1 = Flatten()(classifier1)#adding layer of flatten\n",
    "classifier1 = Dense(units=256, activation='relu')(classifier1)\n",
    "classifier1 = Dropout(0.4)(classifier1)\n",
    "classifier1 = Dense(units=29, activation='softmax')(classifier1)\n",
    "\n",
    "model = Model(inputs = classifier_vgg19.input , outputs = classifier1)\n",
    "model.compile(optimizer='sgd', loss='categorical_crossentropy', metrics=['accuracy'])"
   ]
  },
  {
   "cell_type": "code",
   "execution_count": null,
   "metadata": {
    "colab": {
     "base_uri": "https://localhost:8080/"
    },
    "executionInfo": {
     "elapsed": 266,
     "status": "ok",
     "timestamp": 1679348736322,
     "user": {
      "displayName": "Ahmed Gouda",
      "userId": "17922455451896604247"
     },
     "user_tz": -120
    },
    "id": "q0Vz3kePdoB7",
    "outputId": "dd5838b5-38c4-4f94-e474-debaf8eeb9fe"
   },
   "outputs": [],
   "source": [
    "model.summary()"
   ]
  },
  {
   "cell_type": "code",
   "execution_count": null,
   "metadata": {
    "colab": {
     "base_uri": "https://localhost:8080/"
    },
    "executionInfo": {
     "elapsed": 203302,
     "status": "ok",
     "timestamp": 1679348995178,
     "user": {
      "displayName": "Ahmed Gouda",
      "userId": "17922455451896604247"
     },
     "user_tz": -120
    },
    "id": "px6scaVcdWA6",
    "outputId": "aea847b1-b6f0-4271-96bb-eb1e8877a35c"
   },
   "outputs": [],
   "source": [
    "history = model.fit(x_train, y_train_cat, epochs =5, batch_size = 1,validation_data=(x_val,y_val_cat))"
   ]
  },
  {
   "cell_type": "code",
   "execution_count": null,
   "metadata": {
    "colab": {
     "base_uri": "https://localhost:8080/"
    },
    "executionInfo": {
     "elapsed": 4315,
     "status": "ok",
     "timestamp": 1679349002479,
     "user": {
      "displayName": "Ahmed Gouda",
      "userId": "17922455451896604247"
     },
     "user_tz": -120
    },
    "id": "KBiya_uo5vjo",
    "outputId": "d65c781a-485f-46b4-80d4-93cf83a7b768"
   },
   "outputs": [],
   "source": [
    "score = model.evaluate(x = x_test, y =y_test_cat, verbose = 0)\n",
    "print('Accuracy for test images:', round(score[1]*100, 3), '%')"
   ]
  },
  {
   "cell_type": "code",
   "execution_count": null,
   "metadata": {},
   "outputs": [],
   "source": [
    "import cv2\n",
    "from cvzone.HandTrackingModule import HandDetector\n",
    "import numpy as np\n",
    "import math\n",
    "import time\n",
    "import os"
   ]
  },
  {
   "cell_type": "code",
   "execution_count": null,
   "metadata": {},
   "outputs": [],
   "source": [
    "cap = cv2.VideoCapture(0)\n",
    "detector = HandDetector(maxHands=2)\n",
    "\n",
    " \n",
    "offset = 20\n",
    "imgSize = 300\n",
    "  \n",
    "labels=list(np.unique(y_train))\n",
    " \n",
    "while True:\n",
    "    success, img = cap.read()\n",
    "    imgOutput = img.copy()\n",
    "    hands, img = detector.findHands(img)\n",
    "    if hands:\n",
    "        hand = hands[0]\n",
    "        x, y, w, h = hand['bbox']\n",
    " \n",
    "        imgWhite = np.ones((imgSize, imgSize, 3), np.uint8) * 255\n",
    "        imgCrop = img[y - offset:y + h + offset, x - offset:x + w + offset]\n",
    " \n",
    "        imgCropShape = imgCrop.shape\n",
    " \n",
    "        aspectRatio = h / w\n",
    " \n",
    "        if aspectRatio > 1:\n",
    "            k = imgSize / h\n",
    "            wCal = math.ceil(k * w)\n",
    "            imgResize = cv2.resize(imgCrop, (wCal, imgSize))\n",
    "            imgResizeShape = imgResize.shape\n",
    "            wGap = math.ceil((imgSize - wCal) / 2)\n",
    "            imgWhite[:, wGap:wCal + wGap] = imgResize\n",
    "            #imgWhite1=cv2.resize(imgWhite, (150, 150))\n",
    "            imgWhite1=imgWhite.reshape(1,300,300,3)\n",
    "            prediction= model2.predict(imgWhite1)\n",
    "            index=np.argmax(prediction)\n",
    "            print(prediction, index)\n",
    " \n",
    "        else:\n",
    "            k = imgSize / w\n",
    "            hCal = math.ceil(k * h)\n",
    "            imgResize = cv2.resize(imgCrop, (imgSize, hCal))\n",
    "            imgResizeShape = imgResize.shape\n",
    "            hGap = math.ceil((imgSize - hCal) / 2)\n",
    "            imgWhite[hGap:hCal + hGap, :] = imgResize\n",
    "            \n",
    "           # imgWhite1=cv2.resize(imgWhite, (150, 150))\n",
    "            imgWhite1=imgWhite.reshape(1,300,300,3)\n",
    "            prediction= model2.predict(imgWhite1)\n",
    "            index=np.argmax(prediction)\n",
    "            print(prediction, index)\n",
    " \n",
    " \n",
    "        #cv2.rectangle(imgOutput, (x - offset, y - offset-50),\n",
    "         #             (x - offset+90, y - offset-50+50), (255, 0, 255), cv2.FILLED)\n",
    "        cv2.putText(imgOutput, labels[index], (x, y -26), cv2.FONT_HERSHEY_COMPLEX, 1.7, (255, 255, 255), 2)\n",
    "#         cv2.rectangle(imgOutput, (x-offset, y-offset),\n",
    "#                       (x + w+offset, y + h+offset), (255, 0, 255), 4)\n",
    " \n",
    " \n",
    "        cv2.imshow(\"ImageCrop\", imgCrop)\n",
    "        cv2.imshow(\"ImageWhite\", imgWhite)\n",
    " \n",
    "    cv2.imshow(\"Image\", imgOutput)\n",
    "    cv2.waitKey(1)\n",
    "    if cv2.waitKey(1) & 0xFF == ord('q'):\n",
    "        cap.release()\n",
    "        cv2.destroyAllWindows()"
   ]
  }
 ],
 "metadata": {
  "accelerator": "GPU",
  "colab": {
   "authorship_tag": "ABX9TyMitXnKnIarOmf27JmiZ5Gb",
   "provenance": []
  },
  "gpuClass": "standard",
  "kernelspec": {
   "display_name": "Python 3 (ipykernel)",
   "language": "python",
   "name": "python3"
  },
  "language_info": {
   "codemirror_mode": {
    "name": "ipython",
    "version": 3
   },
   "file_extension": ".py",
   "mimetype": "text/x-python",
   "name": "python",
   "nbconvert_exporter": "python",
   "pygments_lexer": "ipython3",
   "version": "3.9.13"
  }
 },
 "nbformat": 4,
 "nbformat_minor": 1
}
